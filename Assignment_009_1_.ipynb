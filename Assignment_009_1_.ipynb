{
  "nbformat": 4,
  "nbformat_minor": 0,
  "metadata": {
    "colab": {
      "name": "Assignment-009/1 .ipynb",
      "provenance": []
    },
    "kernelspec": {
      "name": "python3",
      "display_name": "Python 3"
    },
    "language_info": {
      "name": "python"
    }
  },
  "cells": [
    {
      "cell_type": "code",
      "metadata": {
        "colab": {
          "base_uri": "https://localhost:8080/"
        },
        "id": "6iPeojnpMEEc",
        "outputId": "293e5fe5-d537-47a0-ed37-e9fc3862f0ed"
      },
      "source": [
        "name_input = input('What is your name?: ')\n",
        "\n",
        "if name_input == 'Yavuzhan':\n",
        "  print(\"Hello, {}! The password is : W@12\".format(name_input))\n",
        "else:\n",
        "  print(\"Hello, {}! See you later.\".format(name_input))"
      ],
      "execution_count": null,
      "outputs": [
        {
          "output_type": "stream",
          "text": [
            "What is your name?: Yavuzhan\n",
            "Hello, Yavuzhan! The password is : W@12\n"
          ],
          "name": "stdout"
        }
      ]
    }
  ]
}