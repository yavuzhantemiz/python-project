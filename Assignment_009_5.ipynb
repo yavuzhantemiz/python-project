{
  "nbformat": 4,
  "nbformat_minor": 0,
  "metadata": {
    "colab": {
      "name": "Assignment_009_5.ipynb",
      "provenance": [],
      "collapsed_sections": [],
      "authorship_tag": "ABX9TyO+BWiFtpgImmu00BXzTLnU",
      "include_colab_link": true
    },
    "kernelspec": {
      "name": "python3",
      "display_name": "Python 3"
    },
    "language_info": {
      "name": "python"
    }
  },
  "cells": [
    {
      "cell_type": "markdown",
      "metadata": {
        "id": "view-in-github",
        "colab_type": "text"
      },
      "source": [
        "<a href=\"https://colab.research.google.com/github/yavuzhantemiz/python-project/blob/main/Assignment_009_5.ipynb\" target=\"_parent\"><img src=\"https://colab.research.google.com/assets/colab-badge.svg\" alt=\"Open In Colab\"/></a>"
      ]
    },
    {
      "cell_type": "code",
      "metadata": {
        "colab": {
          "base_uri": "https://localhost:8080/"
        },
        "id": "uS6ciRXK7mCc",
        "outputId": "e4b62756-b19c-4015-e6c0-f2975c00ba8a"
      },
      "source": [
        "fibonacci = []\n",
        "num1 = 0\n",
        "num2 = 1\n",
        "while True:\n",
        "    fibonacci.append(num2)\n",
        "    sum = num1 + num2\n",
        "    num1 = num2\n",
        "    num2 = sum\n",
        "    if sum > 55:\n",
        "        break\n",
        "print(fibonacci)"
      ],
      "execution_count": 2,
      "outputs": [
        {
          "output_type": "stream",
          "text": [
            "[1, 1, 2, 3, 5, 8, 13, 21, 34, 55]\n"
          ],
          "name": "stdout"
        }
      ]
    }
  ]
}