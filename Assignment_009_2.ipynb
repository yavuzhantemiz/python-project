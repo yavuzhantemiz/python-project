{
  "nbformat": 4,
  "nbformat_minor": 0,
  "metadata": {
    "colab": {
      "name": "Assignment-009/2.ipynb",
      "provenance": []
    },
    "kernelspec": {
      "name": "python3",
      "display_name": "Python 3"
    },
    "language_info": {
      "name": "python"
    }
  },
  "cells": [
    {
      "cell_type": "code",
      "metadata": {
        "colab": {
          "base_uri": "https://localhost:8080/"
        },
        "id": "yjh2S2M7PAAM",
        "outputId": "953f4a4f-ae6e-4203-825b-c29cb575c915"
      },
      "source": [
        "#age =   #can be assigned only True/False\n",
        "#chronic =  # can be assigned only True/False\n",
        "#immune =  # can be assigned only True/False\n",
        "#risk = ? \n",
        "\n",
        "age = input('Are you a cigarette addict older than 75 years old?: ').title()\n",
        "chronic = input('Do you have a severe chronic disease?: ').title()\n",
        "immune = input('Is your immune system too weak?: ').title()\n",
        "\n",
        "if age == 'Yes' or (chronic == \"Yes\" and immune == 'Yes'):\n",
        "  print('You are in risky group.')\n",
        "else:\n",
        "  print('You are not in risky group')"
      ],
      "execution_count": 34,
      "outputs": [
        {
          "output_type": "stream",
          "text": [
            "Are you a cigarette addict older than 75 years old?: no\n",
            "Do you have a severe chronic disease?: yes\n",
            "Is your immune system too weak?: yes\n",
            "You are in risky group.\n"
          ],
          "name": "stdout"
        }
      ]
    },
    {
      "cell_type": "code",
      "metadata": {
        "id": "1B-QJwqqVFmY"
      },
      "source": [
        ""
      ],
      "execution_count": null,
      "outputs": []
    }
  ]
}