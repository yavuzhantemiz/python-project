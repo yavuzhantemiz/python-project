{
  "nbformat": 4,
  "nbformat_minor": 0,
  "metadata": {
    "colab": {
      "name": "Assignment_009_6.ipynb",
      "provenance": [],
      "authorship_tag": "ABX9TyOI9aTtxJE/Knzhlsi7QLkn",
      "include_colab_link": true
    },
    "kernelspec": {
      "name": "python3",
      "display_name": "Python 3"
    },
    "language_info": {
      "name": "python"
    }
  },
  "cells": [
    {
      "cell_type": "markdown",
      "metadata": {
        "id": "view-in-github",
        "colab_type": "text"
      },
      "source": [
        "<a href=\"https://colab.research.google.com/github/yavuzhantemiz/python-project/blob/main/Assignment_009_6.ipynb\" target=\"_parent\"><img src=\"https://colab.research.google.com/assets/colab-badge.svg\" alt=\"Open In Colab\"/></a>"
      ]
    },
    {
      "cell_type": "code",
      "metadata": {
        "colab": {
          "base_uri": "https://localhost:8080/"
        },
        "id": "yeWdLmpg8xVg",
        "outputId": "5db12a22-6655-4daf-ccd3-d0082b781ec4"
      },
      "source": [
        "n = int(input(\"Enter a number between 1-100: \"))\n",
        "primes = list()\n",
        "for a in range(2, n):\n",
        "    isPrime = True\n",
        "    for i in range(2, a):\n",
        "        if a % i == 0:\n",
        "          isPrime = False\n",
        "    if isPrime:\n",
        "        primes.append(a)\n",
        "print(primes)"
      ],
      "execution_count": 2,
      "outputs": [
        {
          "output_type": "stream",
          "text": [
            "Enter a number between 1-100: 100\n",
            "[2, 3, 5, 7, 11, 13, 17, 19, 23, 29, 31, 37, 41, 43, 47, 53, 59, 61, 67, 71, 73, 79, 83, 89, 97]\n"
          ],
          "name": "stdout"
        }
      ]
    }
  ]
}