{
  "nbformat": 4,
  "nbformat_minor": 0,
  "metadata": {
    "colab": {
      "name": "Assignment-009/4.ipynb",
      "provenance": [],
      "authorship_tag": "ABX9TyNp9n26z1ehaE9c1VC1s6Wc",
      "include_colab_link": true
    },
    "kernelspec": {
      "name": "python3",
      "display_name": "Python 3"
    },
    "language_info": {
      "name": "python"
    }
  },
  "cells": [
    {
      "cell_type": "markdown",
      "metadata": {
        "id": "view-in-github",
        "colab_type": "text"
      },
      "source": [
        "<a href=\"https://colab.research.google.com/github/yavuzhantemiz/python-project/blob/main/Assignment_009_4.ipynb\" target=\"_parent\"><img src=\"https://colab.research.google.com/assets/colab-badge.svg\" alt=\"Open In Colab\"/></a>"
      ]
    },
    {
      "cell_type": "code",
      "metadata": {
        "colab": {
          "base_uri": "https://localhost:8080/"
        },
        "id": "UE09MX4pwFjT",
        "outputId": "476c1766-b6ab-42dc-dc76-d0179999d994"
      },
      "source": [
        "while True:\n",
        "  sayi = input('Enter a number. q for exit : ')\n",
        "  if sayi == 'q':\n",
        "    break\n",
        "  else:\n",
        "    liste = list()\n",
        "    for i in range(1,int(sayi)+1):\n",
        "      if int(sayi) % i == 0:\n",
        "        liste.append(i)\n",
        "    if len(liste) < 3 :\n",
        "      print('{} is a prime number'.format(sayi))\n",
        "    else:\n",
        "      print('{} is not a prime number'.format(sayi))\n"
      ],
      "execution_count": 1,
      "outputs": [
        {
          "output_type": "stream",
          "text": [
            "Enter a number. q for exit : 15\n",
            "15 is not a prime number\n",
            "Enter a number. q for exit : 13\n",
            "13 is a prime number\n",
            "Enter a number. q for exit : 19\n",
            "19 is a prime number\n",
            "Enter a number. q for exit : q\n"
          ],
          "name": "stdout"
        }
      ]
    }
  ]
}