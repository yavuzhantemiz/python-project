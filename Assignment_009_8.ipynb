{
  "nbformat": 4,
  "nbformat_minor": 0,
  "metadata": {
    "colab": {
      "name": "Assignment_009_8.ipynb",
      "provenance": [],
      "authorship_tag": "ABX9TyNBVajr2b6KuQwHhCVqqkxi",
      "include_colab_link": true
    },
    "kernelspec": {
      "name": "python3",
      "display_name": "Python 3"
    },
    "language_info": {
      "name": "python"
    }
  },
  "cells": [
    {
      "cell_type": "markdown",
      "metadata": {
        "id": "view-in-github",
        "colab_type": "text"
      },
      "source": [
        "<a href=\"https://colab.research.google.com/github/yavuzhantemiz/python-project/blob/main/Assignment_009_8.ipynb\" target=\"_parent\"><img src=\"https://colab.research.google.com/assets/colab-badge.svg\" alt=\"Open In Colab\"/></a>"
      ]
    },
    {
      "cell_type": "code",
      "metadata": {
        "colab": {
          "base_uri": "https://localhost:8080/"
        },
        "id": "MUi1dVzZ_gzr",
        "outputId": "2587ddf5-9133-48b9-9460-41f6f962df99"
      },
      "source": [
        "kelime = input('Write a sentence: ')\n",
        "my_dict = {}\n",
        "\n",
        "for i in kelime:\n",
        "    if i not in my_dict:\n",
        "      my_dict[i] = 1 \n",
        "    else:\n",
        "      my_dict[i]+=1\n",
        "print(my_dict)"
      ],
      "execution_count": 1,
      "outputs": [
        {
          "output_type": "stream",
          "text": [
            "Write a sentence: test sentence!\n",
            "{'t': 3, 'e': 4, 's': 2, ' ': 1, 'n': 2, 'c': 1, '!': 1}\n"
          ],
          "name": "stdout"
        }
      ]
    }
  ]
}